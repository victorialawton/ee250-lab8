{
 "cells": [
  {
   "cell_type": "code",
   "execution_count": null,
   "id": "3bf652a5-51f3-444f-99d0-88b5ab86d43c",
   "metadata": {},
   "outputs": [],
   "source": [
    "import pickle\n",
    "import numpy as np\n",
    "import pandas as pd\n",
    "from matplotlib import pyplot as plt\n",
    "plt.rcParams['figure.figsize'] = (10,7)\n",
    "import seaborn as sns\n",
    "from sklearn.model_selection import train_test_split\n",
    "import tensorflow as tf\n",
    "from tensorflow.keras import Sequential\n",
    "from tensorflow.keras.layers import Dense\n",
    "from tensorflow.keras import initializers"
   ]
  },
  {
   "cell_type": "code",
   "execution_count": null,
   "id": "cd9c4539-8286-4081-b577-a4cf8b0cf351",
   "metadata": {},
   "outputs": [],
   "source": [
    "coins = pd.read_csv(\"coins.csv\")\n",
    "coins.tail(10)"
   ]
  },
  {
   "cell_type": "code",
   "execution_count": null,
   "id": "d33d04d3-4b62-4648-af45-14874fd7355d",
   "metadata": {},
   "outputs": [],
   "source": [
    "sns.scatterplot(x=\"reflectance\",y=\"weight\",data=coins, hue=\"denomination\")"
   ]
  },
  {
   "cell_type": "code",
   "execution_count": null,
   "id": "ecf09963-23dc-4b50-9615-207d9ec80140",
   "metadata": {},
   "outputs": [],
   "source": [
    "# test-train split\n",
    "X = coins[[\"reflectance\",\"weight\"]].to_numpy()\n",
    "y = coins[[\"denomination\"]].to_numpy() - 1  #substract one to make denomination set 0-1\n",
    "X_train, X_test, y_train, y_test = train_test_split(X, y, test_size=0.2, random_state=42)"
   ]
  },
  {
   "cell_type": "code",
   "execution_count": null,
   "id": "4d0f202b-e630-4738-9fca-ad24fe3c4c49",
   "metadata": {},
   "outputs": [],
   "source": [
    "## Initiate classifier and train it using the X_train data and the y_train labels\n",
    "\n",
    "## make sure you instantiate your classifier and name it model\n",
    "\n"
   ]
  },
  {
   "cell_type": "code",
   "execution_count": null,
   "id": "915b54f9",
   "metadata": {},
   "outputs": [],
   "source": [
    "## train your model\n"
   ]
  },
  {
   "cell_type": "code",
   "execution_count": null,
   "id": "1e59ce5b-ef36-4529-9d22-df9dd535df8a",
   "metadata": {},
   "outputs": [],
   "source": [
    "## test the accuracy of your model\n"
   ]
  },
  {
   "cell_type": "code",
   "execution_count": null,
   "id": "87a2517a-f772-43e3-9acd-f0490501a0fe",
   "metadata": {},
   "outputs": [],
   "source": [
    "## plot the decision boundary of your classifier along with the scatterplot of the training data\n",
    "## hint: look at the ann example\n",
    "## Plot the decision boundary\n",
    "\n"
   ]
  },
  {
   "cell_type": "code",
   "execution_count": null,
   "id": "26650fae-4a34-4533-b8ba-771e228f5277",
   "metadata": {},
   "outputs": [],
   "source": [
    "## additional stuff you want to add "
   ]
  },
  {
   "cell_type": "code",
   "execution_count": null,
   "id": "5265e004-3e48-4ddb-b3c9-b375051cc6a2",
   "metadata": {},
   "outputs": [],
   "source": [
    "# dump your classifier \n",
    "model.save('model.h5')"
   ]
  },
  {
   "cell_type": "code",
   "execution_count": null,
   "id": "fee34eee",
   "metadata": {},
   "outputs": [],
   "source": [
    "# test saved model\n",
    "from keras.models import load_model\n",
    "loaded_model = load_model('model.h5')\n",
    "\n",
    "## test the accuracy of your loaded model and compare"
   ]
  }
 ],
 "metadata": {
  "kernelspec": {
   "display_name": "Python 3 (ipykernel)",
   "language": "python",
   "name": "python3"
  },
  "language_info": {
   "codemirror_mode": {
    "name": "ipython",
    "version": 3
   },
   "file_extension": ".py",
   "mimetype": "text/x-python",
   "name": "python",
   "nbconvert_exporter": "python",
   "pygments_lexer": "ipython3",
   "version": "3.10.6"
  }
 },
 "nbformat": 4,
 "nbformat_minor": 5
}
